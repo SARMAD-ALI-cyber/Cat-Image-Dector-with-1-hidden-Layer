{
 "cells": [
  {
   "cell_type": "code",
   "execution_count": 172,
   "id": "082d196d",
   "metadata": {},
   "outputs": [
    {
     "name": "stdout",
     "output_type": "stream",
     "text": [
      "Requirement already satisfied: h5py in c:\\users\\dell pc\\appdata\\local\\programs\\python\\python310\\lib\\site-packages (3.8.0)Note: you may need to restart the kernel to use updated packages.\n",
      "\n",
      "Requirement already satisfied: numpy>=1.14.5 in c:\\users\\dell pc\\appdata\\local\\programs\\python\\python310\\lib\\site-packages (from h5py) (1.23.3)\n"
     ]
    },
    {
     "name": "stderr",
     "output_type": "stream",
     "text": [
      "\n",
      "[notice] A new release of pip available: 22.3.1 -> 23.1.2\n",
      "[notice] To update, run: C:\\Users\\Dell pc\\AppData\\Local\\Programs\\Python\\Python310\\python.exe -m pip install --upgrade pip\n"
     ]
    }
   ],
   "source": [
    "pip install h5py\n"
   ]
  },
  {
   "cell_type": "code",
   "execution_count": 179,
   "id": "a6d1ec62",
   "metadata": {},
   "outputs": [],
   "source": [
    "import numpy as np\n",
    "import matplotlib.pyplot as plt\n",
    "import h5py\n",
    "import scipy\n",
    "from PIL import Image\n",
    "from scipy import ndimage\n",
    "\n",
    "%matplotlib inline"
   ]
  },
  {
   "cell_type": "code",
   "execution_count": 224,
   "id": "6bbe8c5f",
   "metadata": {
    "scrolled": false
   },
   "outputs": [
    {
     "name": "stdout",
     "output_type": "stream",
     "text": [
      "X_train shape: (209, 64, 64, 3)\n",
      "Y_train shape: (1, 209)\n",
      "X_test shape: (50, 64, 64, 3)\n",
      "Y_test shape: (1, 50)\n"
     ]
    }
   ],
   "source": [
    "\n",
    "\n",
    "# Load the train and test datasets from the .h5 files\n",
    "train_data = h5py.File('train_catvnoncat.h5', 'r')\n",
    "test_data = h5py.File('test_catvnoncat.h5', 'r')\n",
    "\n",
    "# Extract the features and labels from the datasets\n",
    "X_train = train_data['train_set_x'][:]\n",
    "Y_train = train_data['train_set_y'][:]\n",
    "X_test = test_data['test_set_x'][:]\n",
    "Y_test = test_data['test_set_y'][:]\n",
    "\n",
    "# Reshape the labels if necessary\n",
    "Y_train = Y_train.reshape(( 1,Y_train.shape[0]))\n",
    "Y_test = Y_test.reshape(( 1,Y_test.shape[0]))\n",
    "\n",
    "# Print the shapes of the resulting sets\n",
    "print(\"X_train shape:\", X_train.shape)\n",
    "print(\"Y_train shape:\", Y_train.shape)\n",
    "print(\"X_test shape:\", X_test.shape)\n",
    "print(\"Y_test shape:\", Y_test.shape)\n",
    "\n",
    "# Close the .h5 files\n",
    "train_data.close()\n",
    "test_data.close()\n",
    "#print(np.squeeze(np.eye(2)[Y_train.reshape(-1)]))"
   ]
  },
  {
   "cell_type": "code",
   "execution_count": 207,
   "id": "30fe7b30",
   "metadata": {},
   "outputs": [
    {
     "data": {
      "text/plain": [
       "<matplotlib.image.AxesImage at 0x1500a161210>"
      ]
     },
     "execution_count": 207,
     "metadata": {},
     "output_type": "execute_result"
    },
    {
     "data": {
      "image/png": "[encoded data removed]",
      "text/plain": [
       "<Figure size 640x480 with 1 Axes>"
      ]
     },
     "metadata": {},
     "output_type": "display_data"
    }
   ],
   "source": [
    "plt.imshow(X_train[24])"
   ]
  },
  {
   "cell_type": "code",
   "execution_count": 208,
   "id": "71b7697e",
   "metadata": {},
   "outputs": [
    {
     "name": "stdout",
     "output_type": "stream",
     "text": [
      "X_train_flatten (12288, 209)\n",
      "X_test_flatten (12288, 50)\n"
     ]
    }
   ],
   "source": [
    "X_train_flatten =X_train.reshape(X_train.shape[0], -1).T\n",
    "X_test_flatten = X_test.reshape(X_test.shape[0], -1).T\n",
    "print(\"X_train_flatten\",X_train_flatten.shape)\n",
    "print(\"X_test_flatten\",X_test_flatten.shape)\n"
   ]
  },
  {
   "cell_type": "code",
   "execution_count": 209,
   "id": "89668ad5",
   "metadata": {},
   "outputs": [
    {
     "name": "stdout",
     "output_type": "stream",
     "text": [
      "X_train shape: (12288, 209)\n",
      "Y_train shape: (1, 209)\n",
      "X_test shape: (12288, 50)\n",
      "Y_test shape: (1, 50)\n",
      "[[0 0 1 0 0 0 0 1 0 0 0 1 0 1 1 0 0 0 0 1 0 0 0 0 1 1 0 1 0 1 0 0 0 0 0 0\n",
      "  0 0 1 0 0 1 1 0 0 0 0 1 0 0 1 0 0 0 1 0 1 1 0 1 1 1 0 0 0 0 0 0 1 0 0 1\n",
      "  0 0 0 0 0 0 0 0 0 0 0 1 1 0 0 0 1 0 0 0 1 1 1 0 0 1 0 0 0 0 1 0 1 0 1 1\n",
      "  1 1 1 1 0 0 0 0 0 1 0 0 0 1 0 0 1 0 1 0 1 1 0 0 0 1 1 1 1 1 0 0 0 0 1 0\n",
      "  1 1 1 0 1 1 0 0 0 1 0 0 1 0 0 0 0 0 1 0 1 0 1 0 0 1 1 1 0 0 1 1 0 1 0 1\n",
      "  0 0 0 0 0 1 0 0 1 0 0 0 1 0 0 0 0 1 0 0 1 0 0 0 0 0 0 0 0]]\n"
     ]
    }
   ],
   "source": [
    "X_train=X_train_flatten/255\n",
    "X_test=X_test_flatten/255\n",
    "print(\"X_train shape:\", X_train.shape)\n",
    "print(\"Y_train shape:\", Y_train.shape)\n",
    "print(\"X_test shape:\", X_test.shape)\n",
    "print(\"Y_test shape:\", Y_test.shape)\n",
    "print(Y_train)\n"
   ]
  },
  {
   "cell_type": "code",
   "execution_count": 210,
   "id": "8729a2cf",
   "metadata": {},
   "outputs": [],
   "source": [
    "def initialize(n_x,n_h,n_y):\n",
    "    np.random.seed(2)\n",
    "    \n",
    "    W1=np.random.randn(n_h,n_x)*0.01\n",
    "    b1=np.zeros((n_h,1))\n",
    "    W2=np.random.randn(n_y,n_h)*0.01\n",
    "    b2=np.zeros((n_y,1))\n",
    "    \n",
    "    parameters={\"W1\":W1,\n",
    "               \"b1\":b1,\n",
    "               \"W2\":W2,\n",
    "               \"b2\":b2}\n",
    "    return parameters\n",
    "    \n",
    "    "
   ]
  },
  {
   "cell_type": "code",
   "execution_count": 211,
   "id": "482cb42b",
   "metadata": {},
   "outputs": [],
   "source": [
    "def ReLU(x):\n",
    "    return x * (x > 0)\n",
    "def ReLU_derivative(x):\n",
    "    return (x>=0)"
   ]
  },
  {
   "cell_type": "code",
   "execution_count": 212,
   "id": "9818ef18",
   "metadata": {},
   "outputs": [],
   "source": [
    "def forward_propagation(X,parameters):\n",
    "    \n",
    "    W1=parameters[\"W1\"]\n",
    "    b1=parameters[\"b1\"]\n",
    "    W2=parameters[\"W2\"]\n",
    "    b2=parameters[\"b2\"]\n",
    "    \n",
    "    \n",
    "    \n",
    "    \n",
    "    Z1=np.dot(W1,X)+b1\n",
    "    A1=ReLU(Z1)\n",
    "    #A1=np.tanh(Z1)\n",
    "    Z2=np.dot(W2,A1)+b2\n",
    "    A2=1/(1+np.exp(-Z2))\n",
    "    #A2=np.tanh(Z2)\n",
    "    cache = {\"Z1\": Z1,\n",
    "             \"A1\": A1,\n",
    "             \"Z2\": Z2,\n",
    "             \"A2\": A2}\n",
    "    #print(\"Z1\",Z1.shape)\n",
    "    #print(\"A1\",A1.shape)\n",
    "    #print(\"Z2\",Z2.shape)\n",
    "    #print(\"A2\",A2.shape)\n",
    "\n",
    "\n",
    "    return A2, cache\n",
    "    \n",
    "    \n",
    "    \n",
    "    \n",
    "    "
   ]
  },
  {
   "cell_type": "code",
   "execution_count": 213,
   "id": "eec0a111",
   "metadata": {},
   "outputs": [],
   "source": [
    "def compute_cost(A2, Y):\n",
    "    \n",
    "    \n",
    "    \n",
    "    m=Y.shape[1]\n",
    "    \n",
    "    cost=(-1/m)*(np.dot(Y, np.log(A2).T) + np.dot((1-Y), np.log(1-A2).T))\n",
    "    \n",
    "    cost = float(np.squeeze(cost)) \n",
    "    return cost\n",
    "    \n",
    "    "
   ]
  },
  {
   "cell_type": "code",
   "execution_count": 214,
   "id": "9014ac3f",
   "metadata": {},
   "outputs": [],
   "source": [
    "def back_propagation(X,Y,parameters,cache):\n",
    "    m=X.shape[1]\n",
    "    \n",
    "    \n",
    "    W1=parameters[\"W1\"]\n",
    "    W2=parameters[\"W2\"]\n",
    "    A1=cache[\"A1\"]\n",
    "    A2=cache[\"A2\"]\n",
    "    Z1=cache[\"Z1\"]\n",
    "    \n",
    "    \n",
    "    dZ2=A2-Y\n",
    "    dW2=(1/m)*np.dot(dZ2,A1.T)\n",
    "    db2=(1/m)*(np.sum(dZ2,axis=1,keepdims=True))\n",
    "    dZ1=np.dot(W2.T,dZ2) * ReLU_derivative(Z1)\n",
    "    #(1 - np.power(A1,2))\n",
    "    #np.where(Z1 > 0, 1, 0)\n",
    "    \n",
    "    \n",
    "    dW1=(1/m) *(np.dot(dZ1,X.T))\n",
    "    db1=(1/m)*(np.sum(dZ1,axis=1,keepdims=True))\n",
    "    \n",
    "    grads={\"dW2\":dW2,\n",
    "          \"db2\":db2,\n",
    "          \"dW1\":dW1,\n",
    "          \"db1\":db1}\n",
    "#     print(\"dw1\",dW1.shape)\n",
    "#     print(\"dW2\",dW2.shape)\n",
    "    return grads\n",
    "    \n",
    "    "
   ]
  },
  {
   "cell_type": "code",
   "execution_count": 215,
   "id": "4c9d35ee",
   "metadata": {},
   "outputs": [],
   "source": [
    "def update_parameters(parameters,grads,learning_rate):\n",
    "    \n",
    "    W1=parameters[\"W1\"]\n",
    "    W2=parameters[\"W2\"]\n",
    "    b1=parameters[\"b1\"]\n",
    "    b2=parameters[\"b2\"]\n",
    "    \n",
    "    \n",
    "    \n",
    "    dW1=grads[\"dW1\"]\n",
    "    dW2=grads[\"dW2\"]\n",
    "    db2=grads[\"db2\"]\n",
    "    db1=grads[\"db1\"]\n",
    "    \n",
    "    \n",
    "    W1=W1-learning_rate*dW1\n",
    "    W2=W2-learning_rate*dW2\n",
    "    b1=b1-learning_rate*db1\n",
    "    b2=b2-learning_rate*db2\n",
    "    \n",
    "    \n",
    "    parameters={\"W1\":W1,\n",
    "               \"W2\":W2,\n",
    "               \"b1\":b1,\n",
    "               \"b2\":b2}\n",
    "    return parameters\n",
    "    "
   ]
  },
  {
   "cell_type": "code",
   "execution_count": 216,
   "id": "0be54607",
   "metadata": {},
   "outputs": [],
   "source": [
    "def train_model(X,Y, n_h, num_iterations = 10000, print_cost=False):\n",
    "    n_x=X.shape[0]\n",
    "    n_y=Y.shape[0]\n",
    "    \n",
    "    \n",
    "    parameters=initialize(n_x,n_h,n_y)\n",
    "    W1=parameters[\"W1\"]\n",
    "    b1=parameters[\"b1\"]\n",
    "    W2=parameters[\"W2\"]\n",
    "    b2=parameters[\"b2\"]\n",
    "    \n",
    "    \n",
    "    \n",
    "    for i in range(0,num_iterations):\n",
    "        A2, cache = forward_propagation(X, parameters)\n",
    "        \n",
    "        cost = compute_cost(A2, Y)\n",
    "        \n",
    "        \n",
    "        grads = back_propagation(X,Y,parameters,cache)\n",
    "        \n",
    "        parameters = update_parameters(parameters, grads, 0.01)#0.005\n",
    "        \n",
    "        \n",
    "        \n",
    "        if i%1000==0:\n",
    "            print(\"cost after\",i,\"iteration is\",cost)\n",
    "            \n",
    "            \n",
    "    return parameters,cost"
   ]
  },
  {
   "cell_type": "code",
   "execution_count": 222,
   "id": "12291c06",
   "metadata": {},
   "outputs": [
    {
     "name": "stdout",
     "output_type": "stream",
     "text": [
      "cost after 0 iteration is 0.6921933809843939\n",
      "cost after 1000 iteration is 0.21370011210901124\n",
      "cost after 2000 iteration is 0.03751352807480514\n",
      "cost after 3000 iteration is 0.013921322197464843\n",
      "cost after 4000 iteration is 0.007615431269459852\n",
      "cost after 5000 iteration is 0.005018859812557243\n",
      "cost after 6000 iteration is 0.0036603838653502204\n",
      "cost after 7000 iteration is 0.002843387975380608\n",
      "cost after 8000 iteration is 0.002305867231998943\n",
      "cost after 9000 iteration is 0.0019278931853315636\n",
      "The cost after 10000 iterations is  0.0016490497258470605\n"
     ]
    }
   ],
   "source": [
    "parameters,cost=train_model(X_train,Y_train,5 , num_iterations = 10000, print_cost=True)\n",
    "\n",
    "m=X_train[1]\n",
    "\n",
    "print(\"The cost after 10000 iterations is \",cost)\n",
    "\n",
    "#16"
   ]
  },
  {
   "cell_type": "code",
   "execution_count": 221,
   "id": "9a2698db",
   "metadata": {},
   "outputs": [
    {
     "name": "stdout",
     "output_type": "stream",
     "text": [
      "[[9.91970389e-01 6.58000302e-01 9.99186463e-01 9.99535022e-01\n",
      "  9.85713477e-01 2.42559937e-01 5.39461827e-06 9.83578702e-01\n",
      "  9.95428202e-01 9.42160259e-01 1.02978865e-01 1.56844040e-01\n",
      "  8.59537145e-01 9.99187521e-01 1.39679873e-06 9.99451432e-01\n",
      "  2.47449461e-03 9.98973525e-01 1.56413668e-04 1.12914172e-05\n",
      "  9.99470754e-01 2.88417055e-02 1.58538569e-07 9.98515339e-01\n",
      "  6.43638802e-01 8.18579323e-01 9.76212161e-01 1.85194852e-06\n",
      "  1.56672921e-05 2.08143546e-01 1.43150321e-03 9.50909920e-01\n",
      "  9.69667078e-01 7.09925713e-01 3.05413566e-01 5.76652854e-04\n",
      "  1.18815552e-03 8.97780586e-01 1.40414531e-01 2.35981783e-03\n",
      "  2.27354560e-01 2.48287656e-04 9.56311199e-01 1.18599576e-05\n",
      "  9.98953390e-01 9.91742759e-01 6.44348800e-03 9.98600067e-01\n",
      "  9.62890031e-01 1.69359360e-03]]\n",
      "[[ True  True  True  True  True False False  True  True  True False False\n",
      "   True  True False  True False  True False False  True False False  True\n",
      "   True  True  True False False False False  True  True  True False False\n",
      "  False  True False False False False  True False  True  True False  True\n",
      "   True False]]\n"
     ]
    }
   ],
   "source": [
    "W1 = parameters[\"W1\"]\n",
    "b1 = parameters[\"b1\"]\n",
    "W2 = parameters[\"W2\"]\n",
    "b2 = parameters[\"b2\"]\n",
    "\n",
    "\n",
    "\n",
    "\n",
    "Z1=np.dot(W1,X_test)+b1\n",
    "A1=np.maximum(0,Z1)\n",
    "Z2=np.dot(W2,A1)+b2\n",
    "A2=1/(1+np.exp(-Z2))\n",
    "\n",
    "\n",
    "\n",
    "print(A2)\n",
    "predictions = (A2 > 0.5)\n",
    "print(predictions)"
   ]
  },
  {
   "cell_type": "code",
   "execution_count": 227,
   "id": "cf136c3c",
   "metadata": {},
   "outputs": [
    {
     "name": "stdout",
     "output_type": "stream",
     "text": [
      "Your model predicted a Cat ==> True\n"
     ]
    },
    {
     "data": {
      "image/png": "[encoded data removed]",
      "text/plain": [
       "<Figure size 640x480 with 1 Axes>"
      ]
     },
     "metadata": {},
     "output_type": "display_data"
    }
   ],
   "source": [
    "index=48\n",
    "plt.imshow(X_test[index])\n",
    "if predictions[0][index]==True:\n",
    "    print(\"Your model predicted a Cat ==>\",predictions[0][index])\n",
    "elif predictions[0][index]==False:\n",
    "    print(\"Your model predicted not a Cat ==>\",predictions[0][index])\n",
    "    \n"
   ]
  },
  {
   "cell_type": "code",
   "execution_count": null,
   "id": "a37adee9",
   "metadata": {},
   "outputs": [],
   "source": []
  },
  {
   "cell_type": "code",
   "execution_count": null,
   "id": "afe7e56b",
   "metadata": {},
   "outputs": [],
   "source": []
  }
 ],
 "metadata": {
  "kernelspec": {
   "display_name": "Python 3 (ipykernel)",
   "language": "python",
   "name": "python3"
  },
  "language_info": {
   "codemirror_mode": {
    "name": "ipython",
    "version": 3
   },
   "file_extension": ".py",
   "mimetype": "text/x-python",
   "name": "python",
   "nbconvert_exporter": "python",
   "pygments_lexer": "ipython3",
   "version": "3.10.7"
  }
 },
 "nbformat": 4,
 "nbformat_minor": 5
}
